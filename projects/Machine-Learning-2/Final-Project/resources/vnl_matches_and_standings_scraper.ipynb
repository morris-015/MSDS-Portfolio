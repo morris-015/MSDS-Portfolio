{
 "cells": [
  {
   "cell_type": "code",
   "execution_count": null,
   "id": "db08420d-e9f8-463e-99d1-b4a663eb43b4",
   "metadata": {},
   "outputs": [],
   "source": [
    "# SCRAPING CODE\n",
    "\n",
    "from bs4 import BeautifulSoup\n",
    "import pandas as pd\n",
    "\n",
    "# Read HTML content from file\n",
    "with open('matches.html', 'r', encoding='utf-8') as file:\n",
    "    html_content = file.read()\n",
    "\n",
    "# Parse HTML content\n",
    "soup = BeautifulSoup(html_content, 'html5lib')\n",
    "\n",
    "# Find all tables\n",
    "all_tables = soup.find_all('table', class_='vbw-o-table vbw-wr-table-tournaments vbw-wr-table-volleyball')\n",
    "\n",
    "# # Extract tables into a list of DataFrames\n",
    "dfs = []\n",
    "for table in all_tables[::2]:\n",
    "    df = pd.read_html(str(table))[0]\n",
    "    dfs.append(df)\n",
    "\n",
    "# Concatenate all DataFrames into one\n",
    "final_df = pd.concat(dfs, ignore_index=True)\n",
    "\n",
    "# Retain, rename, and rearrange columns\n",
    "final_df = final_df.rename(columns={'Team': 'Team1', 'Points': 'Team1_Points', \n",
    "                                     'Points.1': 'Team2_Points', 'Team.1': 'Team2',\n",
    "                                     'Results': 'Results'})\n",
    "\n",
    "# Reorder the columns\n",
    "final_df = final_df[['Team1', 'Team1_Points', 'Team2', 'Team2_Points', 'Results']]\n",
    "\n",
    "final_df.to_csv('data/vnl_matches.csv', index=False)"
   ]
  },
  {
   "cell_type": "code",
   "execution_count": null,
   "id": "d6aa5255-312e-4b68-8c08-b7923f21146a",
   "metadata": {},
   "outputs": [],
   "source": [
    "# SCRAPING CODE\n",
    "\n",
    "# Read HTML content from file\n",
    "with open('matches.html', 'r', encoding='utf-8') as file:\n",
    "    html_content = file.read()\n",
    "\n",
    "soup = BeautifulSoup(html_content, 'html5lib')\n",
    "\n",
    "teams = []\n",
    "points = []\n",
    "tr_elements = soup.find_all('tr', class_='vbw-o-table__row table-visible-row')\n",
    "\n",
    "for tr in tr_elements:\n",
    "    td_team_cell = tr.find('td', class_='vbw-o-table__cell team')\n",
    "    td_team = td_team_cell.find('div', class_='vbw-mu__team__name vbw-mu__team__name--abbr vbw-mu__team__name-fed--abbr')\n",
    "    td_points = tr.find('td', class_='vbw-o-table__cell points')\n",
    "    \n",
    "    # Extract text from <td> elements\n",
    "    team = td_team.text.strip() if td_team else None\n",
    "    point = td_points.text.strip() if td_points else None\n",
    "    \n",
    "    # Append data to lists\n",
    "    teams.append(team)\n",
    "    points.append(point)\n",
    "\n",
    "# Create a DataFrame from the extracted data\n",
    "df_current_standings = pd.DataFrame({'Team': teams, 'Points': points})\n",
    "df_current_standings\n",
    "\n",
    "df_current_standings.to_csv('data/vnl_2023_current_standing.csv', index=False)"
   ]
  }
 ],
 "metadata": {
  "kernelspec": {
   "display_name": "Python 3 (ipykernel)",
   "language": "python",
   "name": "python3"
  },
  "language_info": {
   "codemirror_mode": {
    "name": "ipython",
    "version": 3
   },
   "file_extension": ".py",
   "mimetype": "text/x-python",
   "name": "python",
   "nbconvert_exporter": "python",
   "pygments_lexer": "ipython3",
   "version": "3.12.0"
  }
 },
 "nbformat": 4,
 "nbformat_minor": 5
}
